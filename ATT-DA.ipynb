{
 "cells": [
  {
   "cell_type": "markdown",
   "id": "8b55e307",
   "metadata": {},
   "source": [
    " \n",
    "<img width=\"200px\" height=\"200px\" src='logo-en.png'/>\n",
    "\n",
    "<br/>\n",
    "<div style=\"text-align: center; font-size:20px; font-weight:bold; color: #212F3D\">King Abdullah I School of Graduate Studies and Scientific Research</div><br/>\n",
    "<div style=\"text-align: center; font-size:20px; font-weight:bold; color: #212F3D;\">Data Augmentation using Transformers and Similarity Measures for Improving Arabic Text Classification</div><br/>\n",
    "<div style=\"text-align: center; font-size:14px; font-weight:bold; color: #212F3D\">Dania Refai<sup>1</sup>, Saleh Abu-Soud<sup>2</sup>, Mohammad Abdel-Rahman<sup>3</sup></div>\n",
    "<br/>\n",
    "<div style=\"text-align: left; font-size:14px; font-weight:normal; color: #212F3D\">\n",
    "    <sup>1</sup> Department of Computer Science, Princess Sumaya University for Technology (PSUT), Amman, Jordan</div>\n",
    "<br/>\n",
    "<div style=\"text-align: left; font-size:14px; font-weight:normal; color: #212F3D\">\n",
    "    <sup>2</sup> Department of Data Science, Princess Sumaya University for Technology (PSUT), Amman, Jordan</div>\n",
    "<br/>\n",
    "<div style=\"text-align: left; font-size:14px; font-weight:normal; color: #212F3D\">\n",
    "    <sup>3</sup> Department of Data Science, Princess Sumaya University for Technology (PSUT), Amman, Jordan</div>\n",
    "<br/>\n",
    "\n",
    "<div style=\"text-align: left; font-size:14px; font-weight:bold; color: #212F3D\">\n",
    "        Crosspending author: Dania Refai (<span style=\"text-align: left; font-size:16px; font-weight:bold; color: #6495ED\">Dania.Refai@hotmail.com</span>).\n",
    "</div>\n",
    "<br/>\n",
    "<hr/>"
   ]
  },
  {
   "cell_type": "markdown",
   "id": "ec692577",
   "metadata": {},
   "source": [
    "### <span style=\"text-align: left; font-size:20px; font-weight:bold; color: #C70039\">General Notes and Directions</span> ###\n",
    "<hr/>\n",
    "\n",
    "> <li style=\"text-align: left; font-size:14px; font-weight:bold; color: #212F3D\">&nbsp;Make sure you have pytorch installed on your machine. Moreover, if you want more information please refer to <a href=\"https://pytorch.org/\">INSTALL PYTORCH</a> from their official website.</li>\n",
    "> <li style=\"text-align: left; font-size:14px; font-weight:bold; color: #212F3D\">&nbsp;Make sure your installed python version is 3.8</li>\n",
    "> <li style=\"text-align: left; font-size:14px; font-weight:bold; color: #212F3D\">&nbsp;Make sure you are running the commands INSIDE source code directory (<span style=\"color: #C70039\">.\\Implementation\\</span>)</li>\n",
    "> <li style=\"text-align: left; font-size:14px; font-weight:bold; color: #212F3D\">&nbsp;Run the following commands in your command shell to create and activate a Virtualenv (<span style=\"color: #C70039\">Windows based systems</span>):</li>\n",
    "> <ol>    \n",
    "> <li style=\"text-align: left; font-family:console; font-size:14px; font-weight:bold; color: #212F3D; list-style-type: none;\">\n",
    "       <span style=\"color: #C70039\">cmd&gt;</span> set PATH=C:\\Users\\(<span style=\"text-align: left; font-size:14px; font-weight:bold; color: #C70039\">-windows_user-</span>)\\AppData\\Local\\Programs\\Python\\Python38\\\n",
    "    </li>\n",
    "> <li style=\"text-align: left; font-family:console; font-size:14px; font-weight:bold; color: #212F3D; list-style-type: none;\">\n",
    "       <span style=\"color: #C70039\">cmd&gt;</span> %PATH%\\python.exe -m pip install --upgrade pip\n",
    "    </li>   \n",
    "> <li style=\"text-align: left; font-family:console; font-size:14px; font-weight:bold; color: #212F3D; list-style-type: none;\">\n",
    "       <span style=\"color: #C70039\">cmd&gt;</span> %PATH%python.exe %PATH%Scripts\\pip.exe install virtualenv \n",
    "    </li>    \n",
    "> <li style=\"text-align: left; font-family:console; font-size:14px; font-weight:bold; color: #212F3D; list-style-type: none;\">\n",
    "       <span style=\"color: #C70039\">cmd&gt;</span> %PATH%\\python.exe -m virtualenv venv \n",
    "    </li>\n",
    "> </ol>\n",
    "> <li style=\"text-align: left; font-size:14px; font-weight:bold; color: #212F3D\">&nbsp; Activate the virtual environment: </li>\n",
    "> <ol>    \n",
    "> <li style=\"text-align: left; font-family:console; font-size:14px; font-weight:bold; color: #212F3D; list-style-type: none;\">\n",
    "       <span style=\"color: #C70039\">cmd&gt;</span> .\\venv\\Scripts\\activate\n",
    "    </li>  \n",
    "> </ol>\n",
    "> <li style=\"text-align: left; font-size:14px; font-weight:bold; color: #212F3D\">&nbsp; Install requirements:</li>\n",
    "> <ol>    \n",
    "> <li style=\"text-align: left; font-family:console; font-size:14px; font-weight:bold; color: #212F3D; list-style-type: none;\">\n",
    "       <span style=\"color: #C70039\">cmd&gt;</span> .\\venv\\Scripts\\pip3 install python-dotenv\n",
    "    </li>\n",
    "> <li style=\"text-align: left; font-family:console; font-size:14px; font-weight:bold; color: #212F3D; list-style-type: none;\">\n",
    "       <span style=\"color: #C70039\">cmd&gt;</span> .\\venv\\Scripts\\pip3 install -r requirements.txt\n",
    "    </li>   \n",
    "> </ol>\n",
    "\n",
    "> <li style=\"text-align: left; font-size:14px; font-weight:bold; color: #212F3D\">&nbsp;Notebook Purpose: <span style=\"color: #C70039\">Data Augmentation for ATT dataset.</span></li>\n",
    "\n"
   ]
  },
  {
   "cell_type": "markdown",
   "id": "7270d23f",
   "metadata": {},
   "source": [
    "### Imports"
   ]
  },
  {
   "cell_type": "code",
   "execution_count": 1,
   "id": "4a305f7d",
   "metadata": {},
   "outputs": [],
   "source": [
    "import pandas as pd\n",
    "import numpy as np\n",
    "from nltk.translate.bleu_score import sentence_bleu\n",
    "from nltk.translate.bleu_score import corpus_bleu\n",
    "import warnings\n",
    "warnings.filterwarnings('ignore')\n"
   ]
  },
  {
   "cell_type": "markdown",
   "id": "9e2a7f2a",
   "metadata": {},
   "source": [
    "### Utils"
   ]
  },
  {
   "cell_type": "code",
   "execution_count": 2,
   "id": "8087c76e",
   "metadata": {},
   "outputs": [],
   "source": [
    "def calculate_bleu_scores(references, hypotheses):\n",
    "    \"\"\"\n",
    "    Calculates BLEU 1-4 scores based on NLTK functionality\n",
    "\n",
    "    Args:\n",
    "        references: List of reference sentences\n",
    "        hypotheses: List of generated sentences\n",
    "\n",
    "    Returns:\n",
    "        bleu_1, bleu_2, bleu_3, bleu_4: BLEU scores\n",
    "\n",
    "    \"\"\"\n",
    "    #return len(references), len(hypotheses)\n",
    "    bleu_1 = np.round(corpus_bleu(references, hypotheses, weights=(1.0, 0., 0., 0.)), decimals=2)\n",
    "    bleu_2 = np.round(corpus_bleu(references, hypotheses, weights=(0.50, 0.50, 0., 0.)), decimals=2)\n",
    "    bleu_3 = np.round(corpus_bleu(references, hypotheses, weights=(0.34, 0.33, 0.33, 0.)), decimals=2)\n",
    "    bleu_4 = np.round(corpus_bleu(references, hypotheses, weights=(0.25, 0.25, 0.25, 0.25)), decimals=2)\n",
    "    return bleu_1, bleu_2, bleu_3, bleu_4 \n",
    "\n",
    "# Functions\n",
    "def check_label (label):\n",
    "    for lbl in LABEL_TO_AUGMENT:\n",
    "        if lbl.upper() == label.upper():\n",
    "            return True\n",
    "    return False        \n",
    "\n",
    "def check_similarity_cofficient (given_value, label, current_sim_coff):\n",
    "    if not check_label(label):\n",
    "        return False\n",
    "    else:\n",
    "        try:\n",
    "            v = float(given_value)\n",
    "            if float(SIM_COFFICIENTS_THRESHOLDS[current_sim_coff.upper()]) >= v:\n",
    "                return True\n",
    "            else:\n",
    "                return False\n",
    "        except:\n",
    "            print('exception')"
   ]
  },
  {
   "cell_type": "markdown",
   "id": "369ef687",
   "metadata": {},
   "source": [
    "### Dataset Loading"
   ]
  },
  {
   "cell_type": "code",
   "execution_count": 3,
   "id": "d174e3dd",
   "metadata": {},
   "outputs": [
    {
     "data": {
      "text/html": [
       "<div>\n",
       "<style scoped>\n",
       "    .dataframe tbody tr th:only-of-type {\n",
       "        vertical-align: middle;\n",
       "    }\n",
       "\n",
       "    .dataframe tbody tr th {\n",
       "        vertical-align: top;\n",
       "    }\n",
       "\n",
       "    .dataframe thead th {\n",
       "        text-align: right;\n",
       "    }\n",
       "</style>\n",
       "<table border=\"1\" class=\"dataframe\">\n",
       "  <thead>\n",
       "    <tr style=\"text-align: right;\">\n",
       "      <th></th>\n",
       "      <th>text</th>\n",
       "      <th>label</th>\n",
       "      <th>new_text</th>\n",
       "      <th>all_text</th>\n",
       "      <th>original_embbedding</th>\n",
       "      <th>new_embbedding</th>\n",
       "      <th>ecu_similarity</th>\n",
       "      <th>cos_similarity</th>\n",
       "      <th>jacc_similarity</th>\n",
       "      <th>text_split</th>\n",
       "      <th>all_text_split</th>\n",
       "      <th>new_text_split</th>\n",
       "      <th>bleu_sim_1</th>\n",
       "      <th>bleu_sim_2</th>\n",
       "      <th>bleu_sim_3</th>\n",
       "      <th>bleu_sim_4</th>\n",
       "    </tr>\n",
       "  </thead>\n",
       "  <tbody>\n",
       "    <tr>\n",
       "      <th>0</th>\n",
       "      <td>Amal _x000D_\\nممتاز كبير محلات وكافيهات ومطاعم...</td>\n",
       "      <td>POS</td>\n",
       "      <td>NaN</td>\n",
       "      <td>Amal ممتاز كبير محلات وكافيهات ومطاعم ورخيص وا...</td>\n",
       "      <td>0.034628928,0.019831989,-0.046533976,-0.024621...</td>\n",
       "      <td>0</td>\n",
       "      <td>0.034629</td>\n",
       "      <td>NaN</td>\n",
       "      <td>0.000000</td>\n",
       "      <td>['Amal', '_x000D_', 'ممتاز', 'كبير', 'محلات', ...</td>\n",
       "      <td>['Amal', 'ممتاز', 'كبير', 'محلات', 'وكافيهات',...</td>\n",
       "      <td>['nan']</td>\n",
       "      <td>0.78</td>\n",
       "      <td>0.76</td>\n",
       "      <td>0.74</td>\n",
       "      <td>0.72</td>\n",
       "    </tr>\n",
       "    <tr>\n",
       "      <th>1</th>\n",
       "      <td>افضل مكان للإقامة _x000D_\\nخلال إقامتي في اسطن...</td>\n",
       "      <td>POS</td>\n",
       "      <td>...تأسست \" مجموعة فاين هوم العالمية \" في عام 2...</td>\n",
       "      <td>افضل مكان للإقامة خلال إقامتي في اسطنبول أقمت ...</td>\n",
       "      <td>0.036414325,0.028412146,-0.037543822,-0.037372...</td>\n",
       "      <td>0.022658791,-0.003618797,-0.033782683,-0.04375...</td>\n",
       "      <td>0.345040</td>\n",
       "      <td>0.892</td>\n",
       "      <td>0.484848</td>\n",
       "      <td>['افضل', 'مكان', 'للإقامة', '_x000D_', 'خلال',...</td>\n",
       "      <td>['افضل', 'مكان', 'للإقامة', 'خلال', 'إقامتي', ...</td>\n",
       "      <td>['...تأسست', '\"', 'مجموعة', 'فاين', 'هوم', 'ال...</td>\n",
       "      <td>0.21</td>\n",
       "      <td>0.20</td>\n",
       "      <td>0.19</td>\n",
       "      <td>0.18</td>\n",
       "    </tr>\n",
       "    <tr>\n",
       "      <th>2</th>\n",
       "      <td>التلفريك في البرازيل _x000D_\\nأنصح لمن يزور ال...</td>\n",
       "      <td>POS</td>\n",
       "      <td>NaN</td>\n",
       "      <td>التلفريك في البرازيل أنصح لمن يزور البرازيل ان...</td>\n",
       "      <td>0.036414325,0.028412146,-0.037543822,-0.037372...</td>\n",
       "      <td>0</td>\n",
       "      <td>0.036414</td>\n",
       "      <td>NaN</td>\n",
       "      <td>0.000000</td>\n",
       "      <td>['التلفريك', 'في', 'البرازيل', '_x000D_', 'أنص...</td>\n",
       "      <td>['التلفريك', 'في', 'البرازيل', 'أنصح', 'لمن', ...</td>\n",
       "      <td>['nan']</td>\n",
       "      <td>0.87</td>\n",
       "      <td>0.85</td>\n",
       "      <td>0.84</td>\n",
       "      <td>0.82</td>\n",
       "    </tr>\n",
       "    <tr>\n",
       "      <th>3</th>\n",
       "      <td>رحله بحريه رائعه الى جزيره تيران _x000D_\\nالاس...</td>\n",
       "      <td>POS</td>\n",
       "      <td>NaN</td>\n",
       "      <td>رحله بحريه رائعه الى جزيره تيران الاسماك والشع...</td>\n",
       "      <td>0.025511466,0.027461855,-0.022016473,-0.029629...</td>\n",
       "      <td>0</td>\n",
       "      <td>0.025511</td>\n",
       "      <td>NaN</td>\n",
       "      <td>0.000000</td>\n",
       "      <td>['رحله', 'بحريه', 'رائعه', 'الى', 'جزيره', 'تي...</td>\n",
       "      <td>['رحله', 'بحريه', 'رائعه', 'الى', 'جزيره', 'تي...</td>\n",
       "      <td>['nan']</td>\n",
       "      <td>0.24</td>\n",
       "      <td>0.23</td>\n",
       "      <td>0.22</td>\n",
       "      <td>0.21</td>\n",
       "    </tr>\n",
       "    <tr>\n",
       "      <th>4</th>\n",
       "      <td>جميلة _x000D_\\nالمكان جميل و التماثيل رائعة و ...</td>\n",
       "      <td>POS</td>\n",
       "      <td>جدا.لوحة تحكم العضو الرسائل الخاصة الاشتراكات...</td>\n",
       "      <td>جميلة المكان جميل و التماثيل رائعة و انيميشن ظ...</td>\n",
       "      <td>0.024910163,0.041109513,-0.031470675,-0.017475...</td>\n",
       "      <td>0.017580774,-0.0027376045,-0.03825421,-0.04189...</td>\n",
       "      <td>0.450412</td>\n",
       "      <td>0.790</td>\n",
       "      <td>0.633333</td>\n",
       "      <td>['جميلة', '_x000D_', 'المكان', 'جميل', 'و', 'ا...</td>\n",
       "      <td>['جميلة', 'المكان', 'جميل', 'و', 'التماثيل', '...</td>\n",
       "      <td>['جدا.لوحة', 'تحكم', 'العضو', 'الرسائل', 'الخا...</td>\n",
       "      <td>0.13</td>\n",
       "      <td>0.12</td>\n",
       "      <td>0.12</td>\n",
       "      <td>0.12</td>\n",
       "    </tr>\n",
       "  </tbody>\n",
       "</table>\n",
       "</div>"
      ],
      "text/plain": [
       "                                                text label   \n",
       "0  Amal _x000D_\\nممتاز كبير محلات وكافيهات ومطاعم...   POS  \\\n",
       "1  افضل مكان للإقامة _x000D_\\nخلال إقامتي في اسطن...   POS   \n",
       "2  التلفريك في البرازيل _x000D_\\nأنصح لمن يزور ال...   POS   \n",
       "3  رحله بحريه رائعه الى جزيره تيران _x000D_\\nالاس...   POS   \n",
       "4  جميلة _x000D_\\nالمكان جميل و التماثيل رائعة و ...   POS   \n",
       "\n",
       "                                            new_text   \n",
       "0                                                NaN  \\\n",
       "1  ...تأسست \" مجموعة فاين هوم العالمية \" في عام 2...   \n",
       "2                                                NaN   \n",
       "3                                                NaN   \n",
       "4   جدا.لوحة تحكم العضو الرسائل الخاصة الاشتراكات...   \n",
       "\n",
       "                                            all_text   \n",
       "0  Amal ممتاز كبير محلات وكافيهات ومطاعم ورخيص وا...  \\\n",
       "1  افضل مكان للإقامة خلال إقامتي في اسطنبول أقمت ...   \n",
       "2  التلفريك في البرازيل أنصح لمن يزور البرازيل ان...   \n",
       "3  رحله بحريه رائعه الى جزيره تيران الاسماك والشع...   \n",
       "4  جميلة المكان جميل و التماثيل رائعة و انيميشن ظ...   \n",
       "\n",
       "                                 original_embbedding   \n",
       "0  0.034628928,0.019831989,-0.046533976,-0.024621...  \\\n",
       "1  0.036414325,0.028412146,-0.037543822,-0.037372...   \n",
       "2  0.036414325,0.028412146,-0.037543822,-0.037372...   \n",
       "3  0.025511466,0.027461855,-0.022016473,-0.029629...   \n",
       "4  0.024910163,0.041109513,-0.031470675,-0.017475...   \n",
       "\n",
       "                                      new_embbedding  ecu_similarity   \n",
       "0                                                  0        0.034629  \\\n",
       "1  0.022658791,-0.003618797,-0.033782683,-0.04375...        0.345040   \n",
       "2                                                  0        0.036414   \n",
       "3                                                  0        0.025511   \n",
       "4  0.017580774,-0.0027376045,-0.03825421,-0.04189...        0.450412   \n",
       "\n",
       "   cos_similarity  jacc_similarity   \n",
       "0             NaN         0.000000  \\\n",
       "1           0.892         0.484848   \n",
       "2             NaN         0.000000   \n",
       "3             NaN         0.000000   \n",
       "4           0.790         0.633333   \n",
       "\n",
       "                                          text_split   \n",
       "0  ['Amal', '_x000D_', 'ممتاز', 'كبير', 'محلات', ...  \\\n",
       "1  ['افضل', 'مكان', 'للإقامة', '_x000D_', 'خلال',...   \n",
       "2  ['التلفريك', 'في', 'البرازيل', '_x000D_', 'أنص...   \n",
       "3  ['رحله', 'بحريه', 'رائعه', 'الى', 'جزيره', 'تي...   \n",
       "4  ['جميلة', '_x000D_', 'المكان', 'جميل', 'و', 'ا...   \n",
       "\n",
       "                                      all_text_split   \n",
       "0  ['Amal', 'ممتاز', 'كبير', 'محلات', 'وكافيهات',...  \\\n",
       "1  ['افضل', 'مكان', 'للإقامة', 'خلال', 'إقامتي', ...   \n",
       "2  ['التلفريك', 'في', 'البرازيل', 'أنصح', 'لمن', ...   \n",
       "3  ['رحله', 'بحريه', 'رائعه', 'الى', 'جزيره', 'تي...   \n",
       "4  ['جميلة', 'المكان', 'جميل', 'و', 'التماثيل', '...   \n",
       "\n",
       "                                      new_text_split  bleu_sim_1  bleu_sim_2   \n",
       "0                                            ['nan']        0.78        0.76  \\\n",
       "1  ['...تأسست', '\"', 'مجموعة', 'فاين', 'هوم', 'ال...        0.21        0.20   \n",
       "2                                            ['nan']        0.87        0.85   \n",
       "3                                            ['nan']        0.24        0.23   \n",
       "4  ['جدا.لوحة', 'تحكم', 'العضو', 'الرسائل', 'الخا...        0.13        0.12   \n",
       "\n",
       "   bleu_sim_3  bleu_sim_4  \n",
       "0        0.74        0.72  \n",
       "1        0.19        0.18  \n",
       "2        0.84        0.82  \n",
       "3        0.22        0.21  \n",
       "4        0.12        0.12  "
      ]
     },
     "execution_count": 3,
     "metadata": {},
     "output_type": "execute_result"
    }
   ],
   "source": [
    "datasetname = 'ATT'\n",
    "datasetpath = \"datasets/xls/ATT-Augmented-aragpt2-base.csv\"\n",
    "df = pd.read_csv( datasetpath, sep=\"\\t\", encoding='utf-8')\n",
    "df.columns = ['text', 'label', 'new_text', 'all_text', 'original_embbedding', 'new_embbedding', 'ecu_similarity', 'cos_similarity', 'jacc_similarity','text_split', 'all_text_split', 'new_text_split', 'bleu_sim_1','bleu_sim_2', 'bleu_sim_3', 'bleu_sim_4'] \n",
    "df.head()"
   ]
  },
  {
   "cell_type": "code",
   "execution_count": 4,
   "id": "0899ad97",
   "metadata": {},
   "outputs": [
    {
     "data": {
      "text/plain": [
       "label\n",
       "POS    2070\n",
       "NEG      81\n",
       "Name: count, dtype: int64"
      ]
     },
     "execution_count": 4,
     "metadata": {},
     "output_type": "execute_result"
    }
   ],
   "source": [
    "df['label'].value_counts()"
   ]
  },
  {
   "cell_type": "markdown",
   "id": "c28fbfbe",
   "metadata": {},
   "source": [
    "### Calculating Similarity Measures"
   ]
  },
  {
   "cell_type": "code",
   "execution_count": 5,
   "id": "1e5c01fa",
   "metadata": {},
   "outputs": [],
   "source": [
    "df['text_split'] = [list(x.split()) for x in df['text']]\n",
    "df['all_text_split'] = [x.split() for x in df['all_text']]\n",
    "df['new_text_split'] = [str(x).split() for x in df['new_text']]"
   ]
  },
  {
   "cell_type": "code",
   "execution_count": 6,
   "id": "7cdddcc7",
   "metadata": {},
   "outputs": [],
   "source": [
    " df[['bleu_sim_1','bleu_sim_2','bleu_sim_3','bleu_sim_4']] = [ calculate_bleu_scores ([[x]],[y]) for x, y in zip(df['text_split'], df['all_text_split'])]\n"
   ]
  },
  {
   "cell_type": "code",
   "execution_count": 7,
   "id": "f6a9ed2c",
   "metadata": {},
   "outputs": [
    {
     "data": {
      "text/html": [
       "<div>\n",
       "<style scoped>\n",
       "    .dataframe tbody tr th:only-of-type {\n",
       "        vertical-align: middle;\n",
       "    }\n",
       "\n",
       "    .dataframe tbody tr th {\n",
       "        vertical-align: top;\n",
       "    }\n",
       "\n",
       "    .dataframe thead th {\n",
       "        text-align: right;\n",
       "    }\n",
       "</style>\n",
       "<table border=\"1\" class=\"dataframe\">\n",
       "  <thead>\n",
       "    <tr style=\"text-align: right;\">\n",
       "      <th></th>\n",
       "      <th>bleu_sim_1</th>\n",
       "      <th>bleu_sim_1</th>\n",
       "      <th>bleu_sim_1</th>\n",
       "      <th>bleu_sim_1</th>\n",
       "    </tr>\n",
       "  </thead>\n",
       "  <tbody>\n",
       "    <tr>\n",
       "      <th>0</th>\n",
       "      <td>0.78</td>\n",
       "      <td>0.78</td>\n",
       "      <td>0.78</td>\n",
       "      <td>0.78</td>\n",
       "    </tr>\n",
       "    <tr>\n",
       "      <th>1</th>\n",
       "      <td>0.21</td>\n",
       "      <td>0.21</td>\n",
       "      <td>0.21</td>\n",
       "      <td>0.21</td>\n",
       "    </tr>\n",
       "    <tr>\n",
       "      <th>2</th>\n",
       "      <td>0.87</td>\n",
       "      <td>0.87</td>\n",
       "      <td>0.87</td>\n",
       "      <td>0.87</td>\n",
       "    </tr>\n",
       "    <tr>\n",
       "      <th>3</th>\n",
       "      <td>0.24</td>\n",
       "      <td>0.24</td>\n",
       "      <td>0.24</td>\n",
       "      <td>0.24</td>\n",
       "    </tr>\n",
       "    <tr>\n",
       "      <th>4</th>\n",
       "      <td>0.13</td>\n",
       "      <td>0.13</td>\n",
       "      <td>0.13</td>\n",
       "      <td>0.13</td>\n",
       "    </tr>\n",
       "    <tr>\n",
       "      <th>...</th>\n",
       "      <td>...</td>\n",
       "      <td>...</td>\n",
       "      <td>...</td>\n",
       "      <td>...</td>\n",
       "    </tr>\n",
       "    <tr>\n",
       "      <th>2146</th>\n",
       "      <td>0.89</td>\n",
       "      <td>0.89</td>\n",
       "      <td>0.89</td>\n",
       "      <td>0.89</td>\n",
       "    </tr>\n",
       "    <tr>\n",
       "      <th>2147</th>\n",
       "      <td>0.07</td>\n",
       "      <td>0.07</td>\n",
       "      <td>0.07</td>\n",
       "      <td>0.07</td>\n",
       "    </tr>\n",
       "    <tr>\n",
       "      <th>2148</th>\n",
       "      <td>0.73</td>\n",
       "      <td>0.73</td>\n",
       "      <td>0.73</td>\n",
       "      <td>0.73</td>\n",
       "    </tr>\n",
       "    <tr>\n",
       "      <th>2149</th>\n",
       "      <td>0.84</td>\n",
       "      <td>0.84</td>\n",
       "      <td>0.84</td>\n",
       "      <td>0.84</td>\n",
       "    </tr>\n",
       "    <tr>\n",
       "      <th>2150</th>\n",
       "      <td>0.28</td>\n",
       "      <td>0.28</td>\n",
       "      <td>0.28</td>\n",
       "      <td>0.28</td>\n",
       "    </tr>\n",
       "  </tbody>\n",
       "</table>\n",
       "<p>2151 rows × 4 columns</p>\n",
       "</div>"
      ],
      "text/plain": [
       "      bleu_sim_1  bleu_sim_1  bleu_sim_1  bleu_sim_1\n",
       "0           0.78        0.78        0.78        0.78\n",
       "1           0.21        0.21        0.21        0.21\n",
       "2           0.87        0.87        0.87        0.87\n",
       "3           0.24        0.24        0.24        0.24\n",
       "4           0.13        0.13        0.13        0.13\n",
       "...          ...         ...         ...         ...\n",
       "2146        0.89        0.89        0.89        0.89\n",
       "2147        0.07        0.07        0.07        0.07\n",
       "2148        0.73        0.73        0.73        0.73\n",
       "2149        0.84        0.84        0.84        0.84\n",
       "2150        0.28        0.28        0.28        0.28\n",
       "\n",
       "[2151 rows x 4 columns]"
      ]
     },
     "execution_count": 7,
     "metadata": {},
     "output_type": "execute_result"
    }
   ],
   "source": [
    " df[['bleu_sim_1','bleu_sim_1','bleu_sim_1','bleu_sim_1']]"
   ]
  },
  {
   "cell_type": "code",
   "execution_count": 8,
   "id": "a5acb47f",
   "metadata": {},
   "outputs": [
    {
     "data": {
      "text/plain": [
       "0.19332339452440997"
      ]
     },
     "execution_count": 8,
     "metadata": {},
     "output_type": "execute_result"
    }
   ],
   "source": [
    "df[\"ecu_similarity\"].mean()"
   ]
  },
  {
   "cell_type": "code",
   "execution_count": 9,
   "id": "1972913b",
   "metadata": {},
   "outputs": [
    {
     "data": {
      "text/plain": [
       "0.8653847472150814"
      ]
     },
     "execution_count": 9,
     "metadata": {},
     "output_type": "execute_result"
    }
   ],
   "source": [
    "df[\"cos_similarity\"].mean()"
   ]
  },
  {
   "cell_type": "code",
   "execution_count": 10,
   "id": "db8ca37c",
   "metadata": {},
   "outputs": [
    {
     "data": {
      "text/plain": [
       "0.20836149481493121"
      ]
     },
     "execution_count": 10,
     "metadata": {},
     "output_type": "execute_result"
    }
   ],
   "source": [
    "df[\"jacc_similarity\"].mean()"
   ]
  },
  {
   "cell_type": "code",
   "execution_count": 11,
   "id": "6292c4fe",
   "metadata": {},
   "outputs": [
    {
     "data": {
      "text/plain": [
       "0.4474616457461646"
      ]
     },
     "execution_count": 11,
     "metadata": {},
     "output_type": "execute_result"
    }
   ],
   "source": [
    "df[\"bleu_sim_1\"].mean()"
   ]
  },
  {
   "cell_type": "code",
   "execution_count": 12,
   "id": "dd88e664",
   "metadata": {},
   "outputs": [],
   "source": [
    "# Parameters\n",
    "all_datasets= []\n",
    "SIM_COFFICIENTS_THRESHOLDS = {'ECU': df[\"ecu_similarity\"].mean(), 'COS':df[\"cos_similarity\"].mean(), 'JAC':df[\"jacc_similarity\"].mean(), 'BLEU':df[\"bleu_sim_1\"].mean()}\n",
    "LABEL_TO_AUGMENT = ['NEG']\n",
    "DATA_COLUMN = \"text\"\n",
    "LABEL_COLUMN = \"label\""
   ]
  },
  {
   "cell_type": "code",
   "execution_count": 13,
   "id": "722bdb44",
   "metadata": {},
   "outputs": [
    {
     "data": {
      "text/plain": [
       "{'ECU': 0.19332339452440997,\n",
       " 'COS': 0.8653847472150814,\n",
       " 'JAC': 0.20836149481493121,\n",
       " 'BLEU': 0.4474616457461646}"
      ]
     },
     "execution_count": 13,
     "metadata": {},
     "output_type": "execute_result"
    }
   ],
   "source": [
    "SIM_COFFICIENTS_THRESHOLDS"
   ]
  },
  {
   "cell_type": "markdown",
   "id": "07b879db",
   "metadata": {},
   "source": [
    "### Augmentation (All-Text)"
   ]
  },
  {
   "cell_type": "code",
   "execution_count": 14,
   "id": "c653b89d",
   "metadata": {},
   "outputs": [
    {
     "name": "stdout",
     "output_type": "stream",
     "text": [
      "All text augmentation is started... \n",
      "All text augmentation is finished ... \n"
     ]
    }
   ],
   "source": [
    "EcuDF = pd.DataFrame()\n",
    "CosDF = pd.DataFrame()\n",
    "JacDF = pd.DataFrame()\n",
    "BleDF = pd.DataFrame()\n",
    "cntr = 1\n",
    "\n",
    "print('All text augmentation is started... ')\n",
    "for index, row in df.iterrows():         \n",
    "    tmpDF = pd.DataFrame({'text': [row[DATA_COLUMN]], 'label': [row[LABEL_COLUMN]]})\n",
    "    Ecu_value = row['ecu_similarity']\n",
    "    Cos_value = row['cos_similarity']\n",
    "    Jac_value = row['jacc_similarity']\n",
    "    Bleu_value = row['bleu_sim_1']\n",
    "    \n",
    "    EcuDF = pd.concat([EcuDF, tmpDF], ignore_index=True)\n",
    "    CosDF = pd.concat([CosDF, tmpDF], ignore_index=True)\n",
    "    JacDF = pd.concat([JacDF, tmpDF], ignore_index=True)\n",
    "    BleDF = pd.concat([BleDF, tmpDF], ignore_index=True)\n",
    "    \n",
    "    tmpDF = pd.DataFrame({'text': [row['all_text']], 'label': [row[LABEL_COLUMN]]})\n",
    "    # Check similarity\n",
    "    if check_similarity_cofficient(Ecu_value, row[LABEL_COLUMN], 'ecu'):\n",
    "        EcuDF = pd.concat([EcuDF, tmpDF], ignore_index=True)\n",
    "\n",
    "    if check_similarity_cofficient(Cos_value, row[LABEL_COLUMN], 'cos'):\n",
    "        CosDF = pd.concat([CosDF, tmpDF], ignore_index=True)\n",
    "\n",
    "    if check_similarity_cofficient(Jac_value, row[LABEL_COLUMN], 'jac'):\n",
    "        JacDF = pd.concat([JacDF, tmpDF], ignore_index=True)\n",
    "\n",
    "    if check_similarity_cofficient(Bleu_value, row[LABEL_COLUMN], 'bleu'):\n",
    "        BleDF = pd.concat([BleDF, tmpDF], ignore_index=True)\n",
    "        \n",
    "print('All text augmentation is finished ... ')\n",
    "\n"
   ]
  },
  {
   "cell_type": "code",
   "execution_count": 15,
   "id": "83d12cff",
   "metadata": {},
   "outputs": [],
   "source": [
    "# Export dataset\n",
    "EcuDF.to_excel( \"Augmented-Dataset/All/\"+datasetname+\"-Augmented-ECU-ALL-Text-Final.xlsx\", index=False)\n",
    "CosDF.to_excel( \"Augmented-Dataset/All/\"+datasetname+\"-Augmented-COS-ALL-Text-Final.xlsx\", index=False)\n",
    "JacDF.to_excel( \"Augmented-Dataset/All/\"+datasetname+\"-Augmented-JAC-ALL-Text-Final.xlsx\", index=False)\n",
    "BleDF.to_excel( \"Augmented-Dataset/All/\"+datasetname+\"-Augmented-BLE-ALL-Text-Final.xlsx\", index=False)"
   ]
  },
  {
   "cell_type": "code",
   "execution_count": 16,
   "id": "52ee996d",
   "metadata": {},
   "outputs": [],
   "source": [
    "df.to_excel(\"Augmented-Dataset/xls/ATT-Augmented-aragpt2-base.xlsx\", index=False)"
   ]
  },
  {
   "cell_type": "markdown",
   "id": "c491bb6e",
   "metadata": {},
   "source": [
    "### Augmentation (New-Text)"
   ]
  },
  {
   "cell_type": "code",
   "execution_count": 17,
   "id": "93a9fff2",
   "metadata": {},
   "outputs": [
    {
     "name": "stdout",
     "output_type": "stream",
     "text": [
      "new text augmentation is started... \n",
      "new text augmentation is finished ... \n"
     ]
    }
   ],
   "source": [
    "EcuDF = pd.DataFrame()\n",
    "CosDF = pd.DataFrame()\n",
    "JacDF = pd.DataFrame()\n",
    "BleDF = pd.DataFrame()\n",
    "cntr = 1\n",
    "\n",
    "print('new text augmentation is started... ')\n",
    "for index, row in df.iterrows():         \n",
    "    tmpDF = { 'text': row[DATA_COLUMN], 'label': row[LABEL_COLUMN]}\n",
    "    Ecu_value = row['ecu_similarity']\n",
    "    Cos_value = row['cos_similarity']\n",
    "    Jac_value = row['jacc_similarity']\n",
    "    Bleu_value = row['bleu_sim_1']\n",
    "    \n",
    "    EcuDF = pd.concat([EcuDF, pd.DataFrame(tmpDF, index=[0])], ignore_index=True)\n",
    "    CosDF = pd.concat([CosDF, pd.DataFrame(tmpDF, index=[0])], ignore_index=True)\n",
    "    JacDF = pd.concat([JacDF, pd.DataFrame(tmpDF, index=[0])], ignore_index=True)\n",
    "    BleDF = pd.concat([BleDF, pd.DataFrame(tmpDF, index=[0])], ignore_index=True)\n",
    "    \n",
    "    tmpDF = { 'text': row['new_text'], 'label': row[LABEL_COLUMN]}\n",
    "    # Check similarity \n",
    "    if check_similarity_cofficient (Ecu_value, row[LABEL_COLUMN], 'ecu'):\n",
    "        EcuDF = pd.concat([EcuDF, pd.DataFrame(tmpDF, index=[0])], ignore_index=True)\n",
    "    \n",
    "    if check_similarity_cofficient (Cos_value, row[LABEL_COLUMN], 'cos'):\n",
    "        CosDF = pd.concat([CosDF, pd.DataFrame(tmpDF, index=[0])], ignore_index=True)\n",
    "    \n",
    "    if check_similarity_cofficient (Jac_value, row[LABEL_COLUMN], 'jac'):\n",
    "        JacDF = pd.concat([JacDF, pd.DataFrame(tmpDF, index=[0])], ignore_index=True)\n",
    "    \n",
    "    if check_similarity_cofficient (Bleu_value, row[LABEL_COLUMN], 'bleu'):\n",
    "        BleDF = pd.concat([BleDF, pd.DataFrame(tmpDF, index=[0])], ignore_index=True)\n",
    "        \n",
    "print('new text augmentation is finished ... ')\n",
    "\n"
   ]
  },
  {
   "cell_type": "code",
   "execution_count": 18,
   "id": "6d220ac9",
   "metadata": {},
   "outputs": [],
   "source": [
    "# Export dataset\n",
    "EcuDF.to_excel( \"Augmented-Dataset/New/\"+datasetname+\"-Augmented-ECU-New-Text-Final.xlsx\", index=False)\n",
    "CosDF.to_excel( \"Augmented-Dataset/New/\"+datasetname+\"-Augmented-COS-New-Text-Final.xlsx\", index=False)\n",
    "JacDF.to_excel( \"Augmented-Dataset/New/\"+datasetname+\"-Augmented-JAC-New-Text-Final.xlsx\", index=False)\n",
    "BleDF.to_excel( \"Augmented-Dataset/New/\"+datasetname+\"-Augmented-BLE-New-Text-Final.xlsx\", index=False)"
   ]
  }
 ],
 "metadata": {
  "kernelspec": {
   "display_name": "Python 3 (ipykernel)",
   "language": "python",
   "name": "python3"
  },
  "language_info": {
   "codemirror_mode": {
    "name": "ipython",
    "version": 3
   },
   "file_extension": ".py",
   "mimetype": "text/x-python",
   "name": "python",
   "nbconvert_exporter": "python",
   "pygments_lexer": "ipython3",
   "version": "3.8.10"
  }
 },
 "nbformat": 4,
 "nbformat_minor": 5
}
